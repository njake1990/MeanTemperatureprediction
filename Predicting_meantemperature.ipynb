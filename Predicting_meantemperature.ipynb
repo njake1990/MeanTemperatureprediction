{
  "nbformat": 4,
  "nbformat_minor": 0,
  "metadata": {
    "colab": {
      "private_outputs": true,
      "provenance": []
    },
    "kernelspec": {
      "name": "python3",
      "display_name": "Python 3"
    },
    "language_info": {
      "name": "python"
    }
  },
  "cells": [
    {
      "cell_type": "code",
      "execution_count": null,
      "metadata": {
        "id": "GmjEaLMcvrQB"
      },
      "outputs": [],
      "source": [
        "# Data\n",
        "import numpy as np\n",
        "import pandas  as pd\n",
        "\n",
        "# torch\n",
        "import torch\n",
        "import torch.nn as nn\n",
        "import torch.optim as optim\n",
        "import torch.utils.data as data\n",
        "import torch.nn.functional as F\n",
        "import torch.utils.data as data\n",
        "# Preprocessing\n",
        "from sklearn.preprocessing import MinMaxScaler\n",
        "\n",
        "# Visualization\n",
        "import seaborn as sns\n",
        "import matplotlib.pyplot as plt\n",
        "import plotly.express as px\n",
        "import plotly.graph_objects as go\n",
        "from plotly.subplots import make_subplots\n",
        "\n",
        "# Evaluation \n",
        "from sklearn.metrics import mean_absolute_error, mean_squared_error, mean_squared_log_error"
      ]
    },
    {
      "cell_type": "code",
      "source": [
        "from google.colab import files\n",
        "\n",
        "uploaded = files.upload()"
      ],
      "metadata": {
        "id": "BL-Gm2nfwVQJ"
      },
      "execution_count": null,
      "outputs": []
    },
    {
      "cell_type": "code",
      "source": [
        "train_df = pd.read_csv('DailyDelhiClimateTrain.csv')\n",
        "test_df = pd.read_csv('DailyDelhiClimateTest.csv')"
      ],
      "metadata": {
        "id": "2aeb9A0Jvtiu"
      },
      "execution_count": null,
      "outputs": []
    },
    {
      "cell_type": "code",
      "source": [
        "# Box Plot / Line Plot\n",
        "class plotly_graph:\n",
        "    def __init__(self, data, date):\n",
        "        self.data = data\n",
        "        self.date = date\n",
        "        self.name_lst = ['Mean Temp', 'Humidity', 'Wind Speed', 'Mean Pressure']\n",
        "        self.box_title = 'Multiple Box Plots'\n",
        "        self.line_title = 'Multiple Line Plots'\n",
        "    \n",
        "#################### function to make subplots ######################\n",
        "    def make_subplot(self, graphs):\n",
        "        fig = make_subplots(rows=2, cols=2, subplot_titles=(self.name_lst))\n",
        "        for i in range(4): fig.add_trace(graphs[i], row=i // 2 + 1, col=i % 2 + 1)\n",
        "        return fig\n",
        "    \n",
        "#################### 1. Box Plot ######################\n",
        "    def box_plot(self):\n",
        "        graph_lsts = []\n",
        "        for i, element in enumerate(self.data.transpose()):\n",
        "            graph_lst = go.Box(y = element,\n",
        "                               name = self.box_title,\n",
        "                               boxpoints = 'outliers',\n",
        "                               line = dict(width=1))    \n",
        "            graph_lsts.append(graph_lst)\n",
        "        fig = self.make_subplot(graph_lsts)\n",
        "        fig.update_layout(title=self.box_title,\n",
        "                          xaxis_title='Columns',\n",
        "                          yaxis_title='Values',\n",
        "                          template = 'simple_white')\n",
        "        fig.show()\n",
        "\n",
        "#################### 2. Line Plot ######################\n",
        "    def line_plot(self):\n",
        "        line_lsts = []\n",
        "        for i, element in enumerate(self.data.transpose()):\n",
        "            line = go.Scatter(x = self.date,\n",
        "                               y = element,\n",
        "                               mode = 'lines',\n",
        "                               name = self.line_title)\n",
        "            line_lsts.append(line)\n",
        "        fig = self.make_subplot(line_lsts)\n",
        "        fig.update_layout(title=self.line_title,\n",
        "                          xaxis_title='Columns',\n",
        "                          yaxis_title='Values',\n",
        "                          template = 'simple_white')\n",
        "        fig.show()"
      ],
      "metadata": {
        "id": "fOXgsZiKvvMw"
      },
      "execution_count": null,
      "outputs": []
    },
    {
      "cell_type": "code",
      "source": [
        "data_ = train_df[['meantemp', 'humidity', 'wind_speed', 'meanpressure']].values\n",
        "\n",
        "graph = plotly_graph(data_, train_df['date'])"
      ],
      "metadata": {
        "id": "rOTFytcXvwk4"
      },
      "execution_count": null,
      "outputs": []
    },
    {
      "cell_type": "code",
      "source": [
        "graph.box_plot()\n"
      ],
      "metadata": {
        "id": "w2ttKVEMvxjJ"
      },
      "execution_count": null,
      "outputs": []
    },
    {
      "cell_type": "code",
      "source": [
        "graph.line_plot()\n"
      ],
      "metadata": {
        "id": "OKPsmqpWvy6Q"
      },
      "execution_count": null,
      "outputs": []
    },
    {
      "cell_type": "code",
      "source": [
        "# Create new column 'humidity_pressure_ratio' using humidity and meanpressure\n",
        "\n",
        "def humidity_pressure_ratio(df):\n",
        "    df['humidity_pressure_ratio'] = df['humidity'] / df['meanpressure']\n",
        "    return df\n",
        "\n",
        "# split date column to create 'year', 'month' and 'day'\n",
        "def get_date_columns(date):\n",
        "    year, month, day = date.split('-')\n",
        "    return (year, month, day)\n",
        "\n",
        "# apply func\n",
        "train_df = humidity_pressure_ratio(train_df)\n",
        "test_df = humidity_pressure_ratio(test_df)\n",
        "\n",
        "# apply func\n",
        "tr_date_cols = train_df['date'].apply(get_date_columns)\n",
        "te_date_cols = test_df['date'].apply(get_date_columns)\n",
        "\n",
        "train_df[['year', 'month', 'day']] = pd.DataFrame(tr_date_cols.tolist(), index=train_df.index)\n",
        "test_df[['year', 'month', 'day']] = pd.DataFrame(te_date_cols.tolist(), index=test_df.index)"
      ],
      "metadata": {
        "id": "dNio8wBnv1zp"
      },
      "execution_count": null,
      "outputs": []
    },
    {
      "cell_type": "code",
      "source": [
        "print('Train set \\n\\n')\n",
        "train_df.head()"
      ],
      "metadata": {
        "id": "OqOb6bRPv3g5"
      },
      "execution_count": null,
      "outputs": []
    },
    {
      "cell_type": "code",
      "source": [
        "# feature selection \n",
        "\n",
        "tr_timeseries = train_df[['month', 'day', 'humidity', 'wind_speed', 'meanpressure', 'humidity_pressure_ratio', 'meantemp']].values.astype('float32')\n",
        "te_timeseries = test_df[['month', 'day',  'humidity', 'wind_speed', 'meanpressure', 'humidity_pressure_ratio', 'meantemp']].values.astype('float32')\n",
        "\n",
        "new = pd.concat([train_df, test_df], axis=0).reset_index().drop('index', axis=1)\n",
        "new_timeseries = new[['month', 'day',  'humidity', 'wind_speed', 'meanpressure',  'humidity_pressure_ratio', 'meantemp']].values.astype('float32')\n",
        "\n",
        "# scaling using MinMax\n",
        "scaler = MinMaxScaler()\n",
        "tr_timeseries = scaler.fit_transform(tr_timeseries)\n",
        "te_timeseries = scaler.transform(te_timeseries)"
      ],
      "metadata": {
        "id": "86ADfkl2v7xt"
      },
      "execution_count": null,
      "outputs": []
    },
    {
      "cell_type": "code",
      "source": [
        "# lookback: 7\n",
        "\n",
        "def create_dataset(dataset, lookback):\n",
        "    X, y = [], []\n",
        "    for i in range(len(dataset)-lookback):\n",
        "        feature = dataset[:,:6][i:i+lookback]\n",
        "        target = dataset[:, 6][i:i+lookback]\n",
        "        X.append(feature)\n",
        "        y.append(target)\n",
        "    return torch.tensor(X), torch.tensor(y)\n",
        "\n",
        "lookback = 7\n",
        "\n",
        "train, test = tr_timeseries, te_timeseries\n",
        "X_train, y_train = create_dataset(train, lookback=lookback)\n",
        "X_test, y_test = create_dataset(test, lookback=lookback)\n",
        "\n",
        "# modify shape of train and test\n",
        "X_train, X_test = X_train, X_test\n",
        "y_train, y_test = y_train, y_test"
      ],
      "metadata": {
        "id": "G4UWv1ORv9l_"
      },
      "execution_count": null,
      "outputs": []
    },
    {
      "cell_type": "code",
      "source": [
        "loader = data.DataLoader(data.TensorDataset(X_train, y_train),\n",
        "                         batch_size = 8, shuffle = True)"
      ],
      "metadata": {
        "id": "I8H15VMhv-9y"
      },
      "execution_count": null,
      "outputs": []
    },
    {
      "cell_type": "code",
      "source": [
        "class LSTMModel(nn.Module):\n",
        "    def __init__(self):\n",
        "        super().__init__()\n",
        "        self.lstm = nn.LSTM(input_size = 6, \n",
        "                            num_layers = 3,\n",
        "                            hidden_size = 128,  \n",
        "                            batch_first = True, \n",
        "                            bidirectional= True)\n",
        "        \n",
        "        self.dropout = nn.Dropout(0.2)\n",
        "        self.linear1 = nn.Linear(128*2, 64)  \n",
        "        self.output_linear = nn.Linear(64, 1)\n",
        "        \n",
        "    def forward(self, x):  \n",
        "        x, _ = self.lstm(x)\n",
        "        x = self.dropout(x)\n",
        "        x = self.linear1(x)\n",
        "        x = self.output_linear(x)\n",
        "        return x"
      ],
      "metadata": {
        "id": "usEs65iYwAMw"
      },
      "execution_count": null,
      "outputs": []
    },
    {
      "cell_type": "code",
      "source": [
        "from torch.optim.lr_scheduler import ReduceLROnPlateau\n",
        "\n",
        "# call model\n",
        "model = LSTMModel()\n",
        "\n",
        "# optimizer: Adam\n",
        "optimizer = optim.Adam(model.parameters(), lr = 1e-3, weight_decay = 1e-5)\n",
        "\n",
        "# loss func: MSE\n",
        "loss_fn = nn.MSELoss()\n",
        "\n",
        "scheduler = ReduceLROnPlateau(optimizer, mode='min', factor=0.5, patience=5, verbose=True)"
      ],
      "metadata": {
        "id": "4xZ5qq8AwB3Q"
      },
      "execution_count": null,
      "outputs": []
    },
    {
      "cell_type": "code",
      "source": [
        "class CustomEarlyStopping:\n",
        "    def __init__(self, patience=40, delta=0, verbose=False):\n",
        "        self.patience = patience\n",
        "        self.delta = delta\n",
        "        self.verbose = verbose\n",
        "        self.counter = 0\n",
        "        self.best_score = None\n",
        "        self.early_stop = False\n",
        "        self.best_state = None\n",
        "        self.best_y_pred = None\n",
        "    \n",
        "    def __call__(self, val_loss, model, X):\n",
        "        score = -val_loss\n",
        "\n",
        "        if self.best_score is None:\n",
        "            self.best_score = score\n",
        "            self.best_state = model.state_dict()\n",
        "            with torch.no_grad():\n",
        "                self.best_y_pred = model(X)\n",
        "        elif score < self.best_score + self.delta:\n",
        "            self.counter += 1\n",
        "            if self.verbose:\n",
        "                print(f'EarlyStopping counter: {self.counter} out of {self.patience}, score: {self.best_score}')\n",
        "    \n",
        "            if self.counter >= self.patience:\n",
        "                self.early_stop = True\n",
        "        else:\n",
        "            self.best_score = score\n",
        "            self.best_state = model.state_dict()\n",
        "            with torch.no_grad():\n",
        "                self.best_y_pred = model(X)\n",
        "            self.counter = 0\n",
        "            \n",
        "early_stopping = CustomEarlyStopping(patience=60, verbose=True)"
      ],
      "metadata": {
        "id": "_XUPyHM5wD24"
      },
      "execution_count": null,
      "outputs": []
    },
    {
      "cell_type": "code",
      "source": [
        "best_score = None\n",
        "best_weights = None\n",
        "best_train_preds = None\n",
        "best_test_preds = None\n",
        "\n",
        "n_epochs = 400\n",
        "\n",
        "for epoch in range(n_epochs):\n",
        "    model.train()\n",
        "    for X_batch, y_batch in loader:\n",
        "        y_pred = model(X_batch)\n",
        "        loss = loss_fn(y_pred.squeeze(), y_batch)\n",
        "        optimizer.zero_grad()\n",
        "        loss.backward()\n",
        "        optimizer.step()\n",
        "\n",
        "    model.eval()\n",
        "    \n",
        "    with torch.no_grad():\n",
        "        y_pred = model(X_train) \n",
        "        train_rmse = np.sqrt(loss_fn(y_pred, y_train.unsqueeze(2)))\n",
        "        train_preds = y_pred.clone().detach().cpu().numpy()\n",
        "        \n",
        "        y_pred = model(X_test) \n",
        "        test_rmse = np.sqrt(loss_fn(y_pred, y_test.unsqueeze(2)))\n",
        "        test_preds = y_pred.clone().detach().cpu().numpy()\n",
        "        \n",
        "        # Update the learning rate scheduler and early stopping\n",
        "        scheduler.step(test_rmse)\n",
        "        \n",
        "        if best_score is None or test_rmse < best_score:\n",
        "            best_score = test_rmse\n",
        "            best_weights = model.state_dict()\n",
        "            best_train_preds = train_preds\n",
        "            best_test_preds = test_preds\n",
        "        \n",
        "        early_stopping(test_rmse, model, X_test)\n",
        "        \n",
        "        # Check if early stopping criterion is met\n",
        "        if early_stopping.early_stop:\n",
        "            print(\"Early stopping\")\n",
        "            break\n",
        "            \n",
        "    if epoch % 10 == 0:\n",
        "        print('*'*10, 'Epoch: ', epoch, '\\ train RMSE: ', train_rmse, '\\ test RMSE', test_rmse)"
      ],
      "metadata": {
        "id": "ROk0X8bKwFoh"
      },
      "execution_count": null,
      "outputs": []
    },
    {
      "cell_type": "code",
      "source": [
        "if best_weights is not None:\n",
        "    model.load_state_dict(best_weights)\n",
        "    \n",
        "    # Use the best weights to generate predictions\n",
        "    with torch.no_grad():\n",
        "        y_pred_train = model(X_train).clone().detach().cpu().numpy()\n",
        "        y_pred_test = model(X_test).clone().detach().cpu().numpy()"
      ],
      "metadata": {
        "id": "IaRR1XFWwH4I"
      },
      "execution_count": null,
      "outputs": []
    },
    {
      "cell_type": "code",
      "source": [
        "with torch.no_grad():\n",
        "    train_plot = np.ones_like(new_timeseries) * np.nan\n",
        "    train_plot[lookback: len(train)] = y_pred_train[:,-1,:]\n",
        "    \n",
        "    test_plot = np.ones_like(new_timeseries) * np.nan\n",
        "    test_plot[len(train)+lookback:len(new_timeseries)] = y_pred_test[:,-1,:]"
      ],
      "metadata": {
        "id": "7PAVqVU2wJMw"
      },
      "execution_count": null,
      "outputs": []
    },
    {
      "cell_type": "code",
      "source": [
        "train_predictions = scaler.inverse_transform(train_plot)\n",
        "test_predictions = scaler.inverse_transform(test_plot)"
      ],
      "metadata": {
        "id": "bonJeMEywKUg"
      },
      "execution_count": null,
      "outputs": []
    },
    {
      "cell_type": "code",
      "source": [
        "import plotly.express as px\n",
        "import plotly.graph_objects as go"
      ],
      "metadata": {
        "id": "zItjcrozwLU0"
      },
      "execution_count": null,
      "outputs": []
    },
    {
      "cell_type": "code",
      "source": [
        "# plot\n",
        "plt.figure(figsize=(20,10))\n",
        "plt.plot(new_timeseries[:,6], c = 'b')\n",
        "plt.plot(train_predictions[:,6], c='r')\n",
        "plt.plot(test_predictions[:,6], c='g')\n",
        "\n",
        "\n",
        "# plt.xlim([500,1000])\n",
        "# plt.ylim([100000, 7000ㅋ00])\n",
        "plt.show()"
      ],
      "metadata": {
        "id": "aUa5bybHwM0F"
      },
      "execution_count": null,
      "outputs": []
    },
    {
      "cell_type": "code",
      "source": [
        "eval_df = pd.concat([test_df['meantemp'].reset_index(),\n",
        "                  pd.Series(test_predictions[:,6][len(train):].reshape(-1).tolist())],axis=1).drop('index',axis=1)\n",
        "\n",
        "eval_df.columns = ['real_meantemp', 'pred_meantemp']"
      ],
      "metadata": {
        "id": "eFK_FotAwOZS"
      },
      "execution_count": null,
      "outputs": []
    },
    {
      "cell_type": "code",
      "source": [
        "fig = go.Figure(data = [\n",
        "    go.Line(x = eval_df.index, y = eval_df['real_meantemp'], name = \"Actual\"),\n",
        "    go.Line(x = eval_df.index, y = eval_df['pred_meantemp'], name=\"Predict\"),\n",
        "])\n",
        "\n",
        "fig.update_layout(\n",
        "    font = dict(size=17,family=\"Franklin Gothic\"),\n",
        "    template = 'simple_white')\n",
        "\n",
        "fig.show()"
      ],
      "metadata": {
        "id": "4PX_KpYDwPzh"
      },
      "execution_count": null,
      "outputs": []
    },
    {
      "cell_type": "code",
      "source": [],
      "metadata": {
        "id": "4Y6I8pn2wPti"
      },
      "execution_count": null,
      "outputs": []
    }
  ]
}